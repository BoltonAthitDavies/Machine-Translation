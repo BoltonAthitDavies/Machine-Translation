{
  "nbformat": 4,
  "nbformat_minor": 0,
  "metadata": {
    "colab": {
      "name": "Postprocessing.ipynb",
      "provenance": [],
      "collapsed_sections": []
    },
    "kernelspec": {
      "name": "python3",
      "display_name": "Python 3"
    },
    "language_info": {
      "name": "python"
    }
  },
  "cells": [
    {
      "cell_type": "code",
      "source": [
        "import pandas as pd"
      ],
      "metadata": {
        "id": "6QPzfutkJqXW"
      },
      "execution_count": null,
      "outputs": []
    },
    {
      "cell_type": "code",
      "execution_count": null,
      "metadata": {
        "colab": {
          "base_uri": "https://localhost:8080/"
        },
        "id": "ivO4gUNaEhU1",
        "outputId": "7f04633a-87d0-4155-c33d-1560fe204463"
      },
      "outputs": [
        {
          "output_type": "stream",
          "name": "stdout",
          "text": [
            "Archive:  /content/testset_v1_3fnd5.zip\n",
            "   creating: TestSet_ForSuperAI_Release01/\n",
            "  inflating: TestSet_ForSuperAI_Release01/test.en  \n",
            "  inflating: TestSet_ForSuperAI_Release01/test.th  \n"
          ]
        }
      ],
      "source": [
        "!unzip /content/testset_v1_3fnd5.zip"
      ]
    },
    {
      "cell_type": "code",
      "source": [
        "from string import punctuation"
      ],
      "metadata": {
        "id": "NpgkEd7YOtCO"
      },
      "execution_count": null,
      "outputs": []
    },
    {
      "cell_type": "code",
      "source": [
        "path = \"/content/\"\n",
        "en = open(path+\"/TestSet_ForSuperAI_Release01/test.en\").read().split(\"\\n\")\n",
        "th = open(path+\"/TestSet_ForSuperAI_Release01/test.th\").read().split(\"\\n\")"
      ],
      "metadata": {
        "id": "9F9DsLDYOv8G"
      },
      "execution_count": null,
      "outputs": []
    },
    {
      "cell_type": "code",
      "source": [
        "th[0:5]"
      ],
      "metadata": {
        "colab": {
          "base_uri": "https://localhost:8080/"
        },
        "id": "57nV0ohmOv3d",
        "outputId": "1a6838ea-fdb9-4fbc-8432-303550387433"
      },
      "execution_count": null,
      "outputs": [
        {
          "output_type": "execute_result",
          "data": {
            "text/plain": [
              "['เขา ทั้ง เตี้ย ทั้ง อ้วน',\n",
              " 'พวก เขา บอก ให้ ฉัน เงียบ',\n",
              " 'คุณ มี แผน อะไร ไหม',\n",
              " 'แสง ไฟ มืด ลง แล้ว',\n",
              " 'คุณ ต้อง ยืนหยัด ดำเนิน การ ตาม แผน']"
            ]
          },
          "metadata": {},
          "execution_count": 28
        }
      ]
    },
    {
      "cell_type": "code",
      "source": [
        "th_experiment = pd.DataFrame([th])\n",
        "th_experiment = th_experiment.transpose()\n",
        "th_experiment.to_csv('th_test.csv')"
      ],
      "metadata": {
        "id": "G_pTKvhVPjoP"
      },
      "execution_count": null,
      "outputs": []
    },
    {
      "cell_type": "code",
      "source": [
        "th_experiment.to_csv(\"a.csv\")"
      ],
      "metadata": {
        "id": "nCWyZM0DZJU5"
      },
      "execution_count": null,
      "outputs": []
    },
    {
      "cell_type": "code",
      "source": [
        "en_experiment = pd.DataFrame([en])\n",
        "en_experiment = en_experiment.transpose()\n",
        "en_experiment"
      ],
      "metadata": {
        "colab": {
          "base_uri": "https://localhost:8080/",
          "height": 423
        },
        "id": "8xRT3EwlPz3m",
        "outputId": "db59fc6f-86c8-4c27-9a66-eec6df918dfd"
      },
      "execution_count": null,
      "outputs": [
        {
          "output_type": "execute_result",
          "data": {
            "text/html": [
              "\n",
              "  <div id=\"df-b5b99043-12a5-45fc-9ecb-6c9125b1cd4c\">\n",
              "    <div class=\"colab-df-container\">\n",
              "      <div>\n",
              "<style scoped>\n",
              "    .dataframe tbody tr th:only-of-type {\n",
              "        vertical-align: middle;\n",
              "    }\n",
              "\n",
              "    .dataframe tbody tr th {\n",
              "        vertical-align: top;\n",
              "    }\n",
              "\n",
              "    .dataframe thead th {\n",
              "        text-align: right;\n",
              "    }\n",
              "</style>\n",
              "<table border=\"1\" class=\"dataframe\">\n",
              "  <thead>\n",
              "    <tr style=\"text-align: right;\">\n",
              "      <th></th>\n",
              "      <th>0</th>\n",
              "    </tr>\n",
              "  </thead>\n",
              "  <tbody>\n",
              "    <tr>\n",
              "      <th>0</th>\n",
              "      <td>What! on fire!</td>\n",
              "    </tr>\n",
              "    <tr>\n",
              "      <th>1</th>\n",
              "      <td>what is your hobby?</td>\n",
              "    </tr>\n",
              "    <tr>\n",
              "      <th>2</th>\n",
              "      <td>This is a tragic love story.</td>\n",
              "    </tr>\n",
              "    <tr>\n",
              "      <th>3</th>\n",
              "      <td>Is this road safe?</td>\n",
              "    </tr>\n",
              "    <tr>\n",
              "      <th>4</th>\n",
              "      <td>Please turn in your assignments on time.</td>\n",
              "    </tr>\n",
              "    <tr>\n",
              "      <th>...</th>\n",
              "      <td>...</td>\n",
              "    </tr>\n",
              "    <tr>\n",
              "      <th>1516</th>\n",
              "      <td>\"In the past, the United States government sto...</td>\n",
              "    </tr>\n",
              "    <tr>\n",
              "      <th>1517</th>\n",
              "      <td>ExxonMobil wishes to assure members of the pub...</td>\n",
              "    </tr>\n",
              "    <tr>\n",
              "      <th>1518</th>\n",
              "      <td>The inquest was opened at the request of famil...</td>\n",
              "    </tr>\n",
              "    <tr>\n",
              "      <th>1519</th>\n",
              "      <td>Despite beginning out-patient treatment next w...</td>\n",
              "    </tr>\n",
              "    <tr>\n",
              "      <th>1520</th>\n",
              "      <td></td>\n",
              "    </tr>\n",
              "  </tbody>\n",
              "</table>\n",
              "<p>1521 rows × 1 columns</p>\n",
              "</div>\n",
              "      <button class=\"colab-df-convert\" onclick=\"convertToInteractive('df-b5b99043-12a5-45fc-9ecb-6c9125b1cd4c')\"\n",
              "              title=\"Convert this dataframe to an interactive table.\"\n",
              "              style=\"display:none;\">\n",
              "        \n",
              "  <svg xmlns=\"http://www.w3.org/2000/svg\" height=\"24px\"viewBox=\"0 0 24 24\"\n",
              "       width=\"24px\">\n",
              "    <path d=\"M0 0h24v24H0V0z\" fill=\"none\"/>\n",
              "    <path d=\"M18.56 5.44l.94 2.06.94-2.06 2.06-.94-2.06-.94-.94-2.06-.94 2.06-2.06.94zm-11 1L8.5 8.5l.94-2.06 2.06-.94-2.06-.94L8.5 2.5l-.94 2.06-2.06.94zm10 10l.94 2.06.94-2.06 2.06-.94-2.06-.94-.94-2.06-.94 2.06-2.06.94z\"/><path d=\"M17.41 7.96l-1.37-1.37c-.4-.4-.92-.59-1.43-.59-.52 0-1.04.2-1.43.59L10.3 9.45l-7.72 7.72c-.78.78-.78 2.05 0 2.83L4 21.41c.39.39.9.59 1.41.59.51 0 1.02-.2 1.41-.59l7.78-7.78 2.81-2.81c.8-.78.8-2.07 0-2.86zM5.41 20L4 18.59l7.72-7.72 1.47 1.35L5.41 20z\"/>\n",
              "  </svg>\n",
              "      </button>\n",
              "      \n",
              "  <style>\n",
              "    .colab-df-container {\n",
              "      display:flex;\n",
              "      flex-wrap:wrap;\n",
              "      gap: 12px;\n",
              "    }\n",
              "\n",
              "    .colab-df-convert {\n",
              "      background-color: #E8F0FE;\n",
              "      border: none;\n",
              "      border-radius: 50%;\n",
              "      cursor: pointer;\n",
              "      display: none;\n",
              "      fill: #1967D2;\n",
              "      height: 32px;\n",
              "      padding: 0 0 0 0;\n",
              "      width: 32px;\n",
              "    }\n",
              "\n",
              "    .colab-df-convert:hover {\n",
              "      background-color: #E2EBFA;\n",
              "      box-shadow: 0px 1px 2px rgba(60, 64, 67, 0.3), 0px 1px 3px 1px rgba(60, 64, 67, 0.15);\n",
              "      fill: #174EA6;\n",
              "    }\n",
              "\n",
              "    [theme=dark] .colab-df-convert {\n",
              "      background-color: #3B4455;\n",
              "      fill: #D2E3FC;\n",
              "    }\n",
              "\n",
              "    [theme=dark] .colab-df-convert:hover {\n",
              "      background-color: #434B5C;\n",
              "      box-shadow: 0px 1px 3px 1px rgba(0, 0, 0, 0.15);\n",
              "      filter: drop-shadow(0px 1px 2px rgba(0, 0, 0, 0.3));\n",
              "      fill: #FFFFFF;\n",
              "    }\n",
              "  </style>\n",
              "\n",
              "      <script>\n",
              "        const buttonEl =\n",
              "          document.querySelector('#df-b5b99043-12a5-45fc-9ecb-6c9125b1cd4c button.colab-df-convert');\n",
              "        buttonEl.style.display =\n",
              "          google.colab.kernel.accessAllowed ? 'block' : 'none';\n",
              "\n",
              "        async function convertToInteractive(key) {\n",
              "          const element = document.querySelector('#df-b5b99043-12a5-45fc-9ecb-6c9125b1cd4c');\n",
              "          const dataTable =\n",
              "            await google.colab.kernel.invokeFunction('convertToInteractive',\n",
              "                                                     [key], {});\n",
              "          if (!dataTable) return;\n",
              "\n",
              "          const docLinkHtml = 'Like what you see? Visit the ' +\n",
              "            '<a target=\"_blank\" href=https://colab.research.google.com/notebooks/data_table.ipynb>data table notebook</a>'\n",
              "            + ' to learn more about interactive tables.';\n",
              "          element.innerHTML = '';\n",
              "          dataTable['output_type'] = 'display_data';\n",
              "          await google.colab.output.renderOutput(dataTable, element);\n",
              "          const docLink = document.createElement('div');\n",
              "          docLink.innerHTML = docLinkHtml;\n",
              "          element.appendChild(docLink);\n",
              "        }\n",
              "      </script>\n",
              "    </div>\n",
              "  </div>\n",
              "  "
            ],
            "text/plain": [
              "                                                      0\n",
              "0                                        What! on fire!\n",
              "1                                   what is your hobby?\n",
              "2                          This is a tragic love story.\n",
              "3                                    Is this road safe?\n",
              "4              Please turn in your assignments on time.\n",
              "...                                                 ...\n",
              "1516  \"In the past, the United States government sto...\n",
              "1517  ExxonMobil wishes to assure members of the pub...\n",
              "1518  The inquest was opened at the request of famil...\n",
              "1519  Despite beginning out-patient treatment next w...\n",
              "1520                                                   \n",
              "\n",
              "[1521 rows x 1 columns]"
            ]
          },
          "metadata": {},
          "execution_count": 113
        }
      ]
    },
    {
      "cell_type": "code",
      "source": [
        ""
      ],
      "metadata": {
        "id": "Ad1U3HqNZxZT"
      },
      "execution_count": null,
      "outputs": []
    },
    {
      "cell_type": "code",
      "source": [
        "len(en_experiment)"
      ],
      "metadata": {
        "colab": {
          "base_uri": "https://localhost:8080/"
        },
        "id": "MOw69Zg1R34m",
        "outputId": "6b44b2e7-4328-40ca-b214-896f21922691"
      },
      "execution_count": null,
      "outputs": [
        {
          "output_type": "execute_result",
          "data": {
            "text/plain": [
              "1521"
            ]
          },
          "metadata": {},
          "execution_count": 41
        }
      ]
    },
    {
      "cell_type": "code",
      "source": [
        " th_experiment[0][232:238]"
      ],
      "metadata": {
        "colab": {
          "base_uri": "https://localhost:8080/"
        },
        "id": "q4vOx_OGR8r-",
        "outputId": "6d9b0880-05a6-42dd-8d9c-bed25a3ac0eb"
      },
      "execution_count": null,
      "outputs": [
        {
          "output_type": "execute_result",
          "data": {
            "text/plain": [
              "232                  แครอท ถูก หั่น เป็น รูป ลูก บาศก์ _\n",
              "233    เขา สวม หมวก ใบ สี เขียว และ สวม เสื้อ ยืด สี ขาว\n",
              "234    อากาศ ที่ หนาว ขนาด นี้ ทำ ให้ มือ แข็ง เป็น ท...\n",
              "235    เด็ก บาง คน เชื่อ ว่า สัตว์ ประหลาด ใน การ์ตูน...\n",
              "236    แม่ ไป ซุปเปอร์มาร์เก็ต ตั้งแต่ เช้าตรู่ เพื่อ...\n",
              "237    แม้ว ใช้ วิธี ที่ ไม่ เหมือน ใคร ใน การ รับรอง...\n",
              "Name: 0, dtype: object"
            ]
          },
          "metadata": {},
          "execution_count": 55
        }
      ]
    },
    {
      "cell_type": "code",
      "source": [
        "def removeunderscore(df):\n",
        "     c = df.replace(\"_\", \"\")\n",
        "     return c"
      ],
      "metadata": {
        "id": "8RQx3D45WQ0n"
      },
      "execution_count": null,
      "outputs": []
    },
    {
      "cell_type": "code",
      "source": [
        "c = th_experiment.replace(\"_\", \"\")\n",
        "c[0][233:234]"
      ],
      "metadata": {
        "id": "11jI5MFoWsVQ"
      },
      "execution_count": null,
      "outputs": []
    },
    {
      "cell_type": "code",
      "source": [
        "'''def removeunderscore(x):\n",
        "    i = 0\n",
        "    j = []\n",
        "    for i in range(0,1512):\n",
        "        k = x[0][i:i+1].replace('_', '')\n",
        "        j.append(k)\n",
        "        i += 1\n",
        "    return j'''"
      ],
      "metadata": {
        "id": "ar2fwqNRQKke"
      },
      "execution_count": null,
      "outputs": []
    },
    {
      "cell_type": "code",
      "source": [
        "#z = th_experiment[0][0:1].replace('น', 5)\n",
        "#z"
      ],
      "metadata": {
        "colab": {
          "base_uri": "https://localhost:8080/"
        },
        "id": "OcT5T0gxU3wo",
        "outputId": "155278ce-4495-4b28-8a5a-aa28e8489515"
      },
      "execution_count": null,
      "outputs": [
        {
          "output_type": "execute_result",
          "data": {
            "text/plain": [
              "0    เขา ทั้ง เตี้ย ทั้ง อ้วน\n",
              "Name: 0, dtype: object"
            ]
          },
          "metadata": {},
          "execution_count": 98
        }
      ]
    },
    {
      "cell_type": "code",
      "source": [
        "#len(th_experiment[0][232:233])"
      ],
      "metadata": {
        "colab": {
          "base_uri": "https://localhost:8080/"
        },
        "id": "NqVlqR41Tk6Y",
        "outputId": "bc92b4d1-e73d-4bf0-b050-8b8594825f54"
      },
      "execution_count": null,
      "outputs": [
        {
          "output_type": "execute_result",
          "data": {
            "text/plain": [
              "1"
            ]
          },
          "metadata": {},
          "execution_count": 81
        }
      ]
    },
    {
      "cell_type": "code",
      "source": [
        "#removeunderscore(th_experiment[0])"
      ],
      "metadata": {
        "id": "YxGcVTmdS2e_"
      },
      "execution_count": null,
      "outputs": []
    },
    {
      "cell_type": "code",
      "source": [
        " เซนติเมตร = 10 มิลลิเมตร\n",
        "1 เดซิเมตร = 10 เซนติเมตร\n",
        "1 เมตร = 10 เดซิเมตร\n",
        "1 เมตร = 100 เซนติเมตร\n",
        "1 เดคาเมตร = 10 เมตร\n",
        "1 เฮกโตเมตร = 10 เดคาเมตร\n",
        "1 กิโลเมตร = 10 เฮกโตเมตร\n",
        "1 กิโลเมตร = 1,000 เมตร อ่านต่อได้ที่ "
      ],
      "metadata": {
        "id": "unSlvEtnY1Eo"
      },
      "execution_count": null,
      "outputs": []
    },
    {
      "cell_type": "code",
      "source": [
        "[เซนติเมตร, มิลลิเมตร, ]"
      ],
      "metadata": {
        "id": "iqq8A8w4XZrP"
      },
      "execution_count": null,
      "outputs": []
    },
    {
      "cell_type": "code",
      "source": [
        ""
      ],
      "metadata": {
        "id": "d6ZnjFL3Y-bI"
      },
      "execution_count": null,
      "outputs": []
    }
  ]
}